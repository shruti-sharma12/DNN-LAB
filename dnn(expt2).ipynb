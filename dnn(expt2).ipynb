{
  "nbformat": 4,
  "nbformat_minor": 0,
  "metadata": {
    "colab": {
      "provenance": [],
      "authorship_tag": "ABX9TyO+M7Vmn6BK3VA97owBm1br",
      "include_colab_link": true
    },
    "kernelspec": {
      "name": "python3",
      "display_name": "Python 3"
    },
    "language_info": {
      "name": "python"
    }
  },
  "cells": [
    {
      "cell_type": "markdown",
      "metadata": {
        "id": "view-in-github",
        "colab_type": "text"
      },
      "source": [
        "<a href=\"https://colab.research.google.com/github/shruti-sharma12/DNN-LAB/blob/main/dnn(expt2).ipynb\" target=\"_parent\"><img src=\"https://colab.research.google.com/assets/colab-badge.svg\" alt=\"Open In Colab\"/></a>"
      ]
    },
    {
      "cell_type": "markdown",
      "source": [
        "Name: SHRUTI SHARMA\n",
        "\n",
        "TY ECE-AIML (A2)\n",
        "\n",
        "PRN:1032211936\n",
        "\n",
        "Date: 06/02/2024\n",
        "\n",
        "EXPERIMENT 2"
      ],
      "metadata": {
        "id": "qcNd4U0AJZSK"
      }
    },
    {
      "cell_type": "code",
      "execution_count": null,
      "metadata": {
        "id": "kLbelatL7CQe"
      },
      "outputs": [],
      "source": [
        "  import numpy as np\n",
        "  import matplotlib.pyplot as plt"
      ]
    },
    {
      "cell_type": "code",
      "source": [
        "np.random.seed(42)\n",
        "M=100\n",
        "x=np.random.rand(M,1)\n",
        "t=2*x+1+0.1*np.random.rand(M,1)"
      ],
      "metadata": {
        "id": "Wpz5_T2R7khZ"
      },
      "execution_count": null,
      "outputs": []
    },
    {
      "cell_type": "code",
      "source": [
        "w=np.random.randn()\n",
        "b=np.random.randn()\n",
        "learning_rate=0.01\n",
        "max_iterations=100"
      ],
      "metadata": {
        "id": "6a272u_G74zq"
      },
      "execution_count": null,
      "outputs": []
    },
    {
      "cell_type": "code",
      "source": [
        "for N in range(max_iterations,0,-1):\n",
        "  SE=0\n",
        "  for i in range(M):\n",
        "    y=w*x[i]+b\n",
        "    e=t[i]-y\n",
        "    w+=learning_rate*e*x[i]\n",
        "    b+=learning_rate*e\n",
        "\n",
        "    SE==e**2\n",
        "\n",
        "  print(f\"Iteration {max_iterations-N+1}, Squared Error:{SE}\")"
      ],
      "metadata": {
        "colab": {
          "base_uri": "https://localhost:8080/"
        },
        "id": "qkhbulWi8HCK",
        "outputId": "7aeee97d-74ca-42dd-8a42-762c2b32bfd7"
      },
      "execution_count": null,
      "outputs": [
        {
          "output_type": "stream",
          "name": "stdout",
          "text": [
            "Iteration 1, Squared Error:0\n",
            "Iteration 2, Squared Error:0\n",
            "Iteration 3, Squared Error:0\n",
            "Iteration 4, Squared Error:0\n",
            "Iteration 5, Squared Error:0\n",
            "Iteration 6, Squared Error:0\n",
            "Iteration 7, Squared Error:0\n",
            "Iteration 8, Squared Error:0\n",
            "Iteration 9, Squared Error:0\n",
            "Iteration 10, Squared Error:0\n",
            "Iteration 11, Squared Error:0\n",
            "Iteration 12, Squared Error:0\n",
            "Iteration 13, Squared Error:0\n",
            "Iteration 14, Squared Error:0\n",
            "Iteration 15, Squared Error:0\n",
            "Iteration 16, Squared Error:0\n",
            "Iteration 17, Squared Error:0\n",
            "Iteration 18, Squared Error:0\n",
            "Iteration 19, Squared Error:0\n",
            "Iteration 20, Squared Error:0\n",
            "Iteration 21, Squared Error:0\n",
            "Iteration 22, Squared Error:0\n",
            "Iteration 23, Squared Error:0\n",
            "Iteration 24, Squared Error:0\n",
            "Iteration 25, Squared Error:0\n",
            "Iteration 26, Squared Error:0\n",
            "Iteration 27, Squared Error:0\n",
            "Iteration 28, Squared Error:0\n",
            "Iteration 29, Squared Error:0\n",
            "Iteration 30, Squared Error:0\n",
            "Iteration 31, Squared Error:0\n",
            "Iteration 32, Squared Error:0\n",
            "Iteration 33, Squared Error:0\n",
            "Iteration 34, Squared Error:0\n",
            "Iteration 35, Squared Error:0\n",
            "Iteration 36, Squared Error:0\n",
            "Iteration 37, Squared Error:0\n",
            "Iteration 38, Squared Error:0\n",
            "Iteration 39, Squared Error:0\n",
            "Iteration 40, Squared Error:0\n",
            "Iteration 41, Squared Error:0\n",
            "Iteration 42, Squared Error:0\n",
            "Iteration 43, Squared Error:0\n",
            "Iteration 44, Squared Error:0\n",
            "Iteration 45, Squared Error:0\n",
            "Iteration 46, Squared Error:0\n",
            "Iteration 47, Squared Error:0\n",
            "Iteration 48, Squared Error:0\n",
            "Iteration 49, Squared Error:0\n",
            "Iteration 50, Squared Error:0\n",
            "Iteration 51, Squared Error:0\n",
            "Iteration 52, Squared Error:0\n",
            "Iteration 53, Squared Error:0\n",
            "Iteration 54, Squared Error:0\n",
            "Iteration 55, Squared Error:0\n",
            "Iteration 56, Squared Error:0\n",
            "Iteration 57, Squared Error:0\n",
            "Iteration 58, Squared Error:0\n",
            "Iteration 59, Squared Error:0\n",
            "Iteration 60, Squared Error:0\n",
            "Iteration 61, Squared Error:0\n",
            "Iteration 62, Squared Error:0\n",
            "Iteration 63, Squared Error:0\n",
            "Iteration 64, Squared Error:0\n",
            "Iteration 65, Squared Error:0\n",
            "Iteration 66, Squared Error:0\n",
            "Iteration 67, Squared Error:0\n",
            "Iteration 68, Squared Error:0\n",
            "Iteration 69, Squared Error:0\n",
            "Iteration 70, Squared Error:0\n",
            "Iteration 71, Squared Error:0\n",
            "Iteration 72, Squared Error:0\n",
            "Iteration 73, Squared Error:0\n",
            "Iteration 74, Squared Error:0\n",
            "Iteration 75, Squared Error:0\n",
            "Iteration 76, Squared Error:0\n",
            "Iteration 77, Squared Error:0\n",
            "Iteration 78, Squared Error:0\n",
            "Iteration 79, Squared Error:0\n",
            "Iteration 80, Squared Error:0\n",
            "Iteration 81, Squared Error:0\n",
            "Iteration 82, Squared Error:0\n",
            "Iteration 83, Squared Error:0\n",
            "Iteration 84, Squared Error:0\n",
            "Iteration 85, Squared Error:0\n",
            "Iteration 86, Squared Error:0\n",
            "Iteration 87, Squared Error:0\n",
            "Iteration 88, Squared Error:0\n",
            "Iteration 89, Squared Error:0\n",
            "Iteration 90, Squared Error:0\n",
            "Iteration 91, Squared Error:0\n",
            "Iteration 92, Squared Error:0\n",
            "Iteration 93, Squared Error:0\n",
            "Iteration 94, Squared Error:0\n",
            "Iteration 95, Squared Error:0\n",
            "Iteration 96, Squared Error:0\n",
            "Iteration 97, Squared Error:0\n",
            "Iteration 98, Squared Error:0\n",
            "Iteration 99, Squared Error:0\n",
            "Iteration 100, Squared Error:0\n"
          ]
        }
      ]
    },
    {
      "cell_type": "code",
      "source": [
        "plt.scatter(x,t,label='Training Data')\n",
        "plt.plot(x,w*x+b, color='red',label='Perceptron Output')\n",
        "plt.xlabel('x')\n",
        "plt.ylabel('y')\n",
        "plt.legend()\n",
        "plt.show()\n",
        "\n",
        "unknown_input=1.8\n",
        "output=w*unknown_input+b\n",
        "print(f\"For input x={unknown_input}, Predicted output y={output}\")"
      ],
      "metadata": {
        "colab": {
          "base_uri": "https://localhost:8080/",
          "height": 466
        },
        "id": "32g1bSxC8-Ld",
        "outputId": "ba359bc1-4b9c-4109-c6df-5b12c81f34f9"
      },
      "execution_count": null,
      "outputs": [
        {
          "output_type": "display_data",
          "data": {
            "text/plain": [
              "<Figure size 640x480 with 1 Axes>"
            ],
            "image/png": "[encoded data removed]"
          },
          "metadata": {}
        },
        {
          "output_type": "stream",
          "name": "stdout",
          "text": [
            "For input x=1.8, Predicted output y=[4.64591563]\n"
          ]
        }
      ]
    },
    {
      "cell_type": "code",
      "source": [
        "import numpy as np\n",
        "\n",
        "w=np.array([0,1,0])\n",
        "x1=np.array([2,1,-1])\n",
        "y1=-1\n",
        "x2=np.array([0,-1,-1])\n",
        "y2=1\n",
        "\n",
        "lr=1\n",
        "\n",
        "def perceptron_train(w,x,y,lr):\n",
        "  net_input=np.dot(w,x)\n",
        "  y_pred=np.sign(net_input)\n",
        "\n",
        "  if y_pred !=y:\n",
        "    w=w+lr*y*x\n",
        "\n",
        "  return w\n",
        "\n",
        "w=perceptron_train(w,x1,y1,lr)\n",
        "w=perceptron_train(w,x2,y2,lr)\n",
        "print(\"Updated Weights: \",w)"
      ],
      "metadata": {
        "colab": {
          "base_uri": "https://localhost:8080/"
        },
        "id": "4dd3zMpe9vy_",
        "outputId": "bb291c12-387a-4b59-a5eb-9d9b9ea1c0c3"
      },
      "execution_count": null,
      "outputs": [
        {
          "output_type": "stream",
          "name": "stdout",
          "text": [
            "Updated Weights:  [-2 -1  0]\n"
          ]
        }
      ]
    },
    {
      "cell_type": "markdown",
      "source": [
        "POST LAB QUESTIONS:\n",
        "\n",
        "1. Describe the perceptron learning rule and how it updates the weights of the perceptron?\n",
        "\n",
        "Ans: Perceptron is a machine learning algorithm for supervised learning of binary classifiers.\n",
        "\n",
        "In Perceptron, the weight coefficient is automatically learned.\n",
        "\n",
        "Initially, weights are multiplied with input features, and the decision is made whether the neuron is fired or not.\n",
        "\n",
        "The activation function applies a step rule to check whether the weight function is greater than zero.\n",
        "\n",
        "The linear decision boundary is drawn, enabling the distinction between the two linearly separable classes +1 and -1.\n",
        "\n",
        "If the added sum of all input values is more than the threshold value, it must have an output signal; otherwise, no output will be shown.\n",
        "\n",
        "\n",
        "2. What are the limitations of a single-layer perceptron, especially in terms of the types of functions it can\n",
        "model?\n",
        "\n",
        "Ans: One of the main disadvantages of using a single-layer perceptron is its limited expressive power and generalization ability. It cannot learn to classify non-linearly separable patterns, such as XOR, circles, or spirals. It is also prone to overfitting and noise, as it tries to fit a straight line to the data. It does not have any hidden layers or activation functions that can introduce non-linearity and flexibility to the model.\n",
        "\n",
        "3. Implement the Perceptron rule training for a network using sgn(net) as activation function,\n",
        "learning rate lr = 1 and initial weights and training samples as given below:\n",
        "\n",
        "W = [0 1 0]\n",
        "\n",
        "X1 = [2 1 -1] and y1 = -1\n",
        "\n",
        "X2 = [0 -1 -1] and y2 = 1\n",
        "\n",
        "Ans:"
      ],
      "metadata": {
        "id": "K6czS7FSKFxr"
      }
    }
  ]
}