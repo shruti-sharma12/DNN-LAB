{
  "nbformat": 4,
  "nbformat_minor": 0,
  "metadata": {
    "colab": {
      "provenance": [],
      "authorship_tag": "ABX9TyMj9eVE+BDbnr1VfHoucBU2",
      "include_colab_link": true
    },
    "kernelspec": {
      "name": "python3",
      "display_name": "Python 3"
    },
    "language_info": {
      "name": "python"
    }
  },
  "cells": [
    {
      "cell_type": "markdown",
      "metadata": {
        "id": "view-in-github",
        "colab_type": "text"
      },
      "source": [
        "<a href=\"https://colab.research.google.com/github/shruti-sharma12/DNN-LAB/blob/main/dnn(expt1).ipynb\" target=\"_parent\"><img src=\"https://colab.research.google.com/assets/colab-badge.svg\" alt=\"Open In Colab\"/></a>"
      ]
    },
    {
      "cell_type": "code",
      "execution_count": null,
      "metadata": {
        "id": "4Tlkhr6kCmN-"
      },
      "outputs": [],
      "source": [
        "import numpy as np"
      ]
    },
    {
      "cell_type": "code",
      "source": [
        "print(\"Your options are\\n a) NAD\\n b) OR\\n c) NOT\\n d) NAND\\n e) NOR\")\n",
        "ch=input(\"Enter your choice of GATE: \")"
      ],
      "metadata": {
        "colab": {
          "base_uri": "https://localhost:8080/"
        },
        "id": "IPe2r29ZCwWN",
        "outputId": "e2310b6c-cc91-413a-cdd6-80f0e0d7009d"
      },
      "execution_count": null,
      "outputs": [
        {
          "name": "stdout",
          "output_type": "stream",
          "text": [
            "Your options are\n",
            " a) NAD\n",
            " b) OR\n",
            " c) NOT\n",
            " d) NAND\n",
            " e) NOR\n",
            "Enter your choice of GATE: b\n"
          ]
        }
      ]
    },
    {
      "cell_type": "code",
      "source": [
        "in1=int(input(\"Enter first variable value \"))\n",
        "in2=int(input(\"enter second variable value \"))"
      ],
      "metadata": {
        "colab": {
          "base_uri": "https://localhost:8080/"
        },
        "id": "B_TqnVW5DLgF",
        "outputId": "c814d5f8-3830-45ae-a00d-ada5c2500492"
      },
      "execution_count": null,
      "outputs": [
        {
          "name": "stdout",
          "output_type": "stream",
          "text": [
            "Enter first variable value 1\n",
            "enter second variable value 1\n"
          ]
        }
      ]
    },
    {
      "cell_type": "code",
      "source": [
        "if((in1>=0 and in1<=1)and(in2>=0and in2<=1)):\n",
        "  print(\"The inputs binary.\")\n",
        "else:\n",
        "  print(\"The inputs are not binary.\")\n",
        "  print(\"Re-enter new binary values.\")\n",
        "  in1=int(input(\"Enter first variable value \"))\n",
        "  in2=int(input(\"Enter second variable value \"))"
      ],
      "metadata": {
        "colab": {
          "base_uri": "https://localhost:8080/"
        },
        "id": "w9Bk5bmpDdJS",
        "outputId": "3af3f767-fed8-4ae6-a502-41add9e38fcb"
      },
      "execution_count": null,
      "outputs": [
        {
          "output_type": "stream",
          "name": "stdout",
          "text": [
            "The inputs binary.\n"
          ]
        }
      ]
    },
    {
      "cell_type": "code",
      "source": [
        "def an():\n",
        "  w1=1\n",
        "  w2=1\n",
        "  s=fun(in1,in2,w1,w2)\n",
        "  if(s>=2):\n",
        "    print(\"Ans=1\")\n",
        "  else:\n",
        "    print(\"Ans=0\")\n",
        "\n",
        "def orr():\n",
        "  w1=1\n",
        "  w2=1\n",
        "  s=fun(in1,in2,w1,w2)\n",
        "  if(s>=1):\n",
        "    print(\"Ans=1\")\n",
        "  else:\n",
        "    print(\"Ans=0\")\n",
        "\n",
        "def no():\n",
        "  return(ina*(-1))\n",
        "\n",
        "def nand():\n",
        "  s=an()\n",
        "  ans=no(s)\n",
        "  print(\"Ans= \",ans)"
      ],
      "metadata": {
        "id": "vEovOPlmEJ_I"
      },
      "execution_count": null,
      "outputs": []
    },
    {
      "cell_type": "code",
      "source": [
        "if(ch==\"AND\"):an()\n",
        "elif(ch==\"OR\"):orr()\n",
        "elif(ch==\"NOT\"):\n",
        "  no(in1)\n",
        "  no(in2)\n",
        "elif(ch==\"NAND\"):nand()\n",
        "elif(ch==\"NOR\"):nor()"
      ],
      "metadata": {
        "id": "5RnaJj_EFDOf"
      },
      "execution_count": null,
      "outputs": []
    }
  ]
}